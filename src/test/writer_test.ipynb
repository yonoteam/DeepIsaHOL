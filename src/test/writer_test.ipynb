{
 "cells": [
  {
   "cell_type": "markdown",
   "id": "c4bb5e2d-d42d-4ad9-97dd-8205499e0f30",
   "metadata": {},
   "source": [
    "# Retrieving Isabelle's state"
   ]
  },
  {
   "cell_type": "code",
   "execution_count": 1,
   "id": "0d13477a-645e-4623-8609-cdc8a1713da7",
   "metadata": {},
   "outputs": [],
   "source": [
    "from py4j.java_gateway import JavaGateway"
   ]
  },
  {
   "cell_type": "code",
   "execution_count": 2,
   "id": "42a93410-76fd-488e-b553-8fbc135abb8a",
   "metadata": {},
   "outputs": [],
   "source": [
    "gateway = JavaGateway()                   # connect to the JVM"
   ]
  },
  {
   "cell_type": "code",
   "execution_count": 3,
   "id": "52c4cc38-0381-4008-9102-4ffc503876b1",
   "metadata": {},
   "outputs": [],
   "source": [
    "entry_point = gateway.entry_point"
   ]
  },
  {
   "cell_type": "code",
   "execution_count": 5,
   "id": "e34a47a7-fcba-4a54-90e9-8fbbbfe85582",
   "metadata": {},
   "outputs": [],
   "source": [
    "writer = entry_point.get_writer(\"HOL\")"
   ]
  },
  {
   "cell_type": "code",
   "execution_count": 8,
   "id": "e9acd6a6-52fd-4e6c-886f-391c25e7bfa9",
   "metadata": {},
   "outputs": [],
   "source": [
    "write_dir = writer.work_dir() + \"python_test/\""
   ]
  },
  {
   "cell_type": "code",
   "execution_count": 9,
   "id": "6a59b8f2-2999-481e-8068-73cdc3eae6ee",
   "metadata": {},
   "outputs": [
    {
     "data": {
      "text/plain": [
       "'Writer(logic=HOL, work_dir=/Users/jonathan/Programs/isabelle/learning/ML_Programming/)'"
      ]
     },
     "execution_count": 9,
     "metadata": {},
     "output_type": "execute_result"
    }
   ],
   "source": [
    "writer.toString()"
   ]
  },
  {
   "cell_type": "code",
   "execution_count": 10,
   "id": "9ee9ce6c-963e-44e9-81da-264254f1d2cd",
   "metadata": {},
   "outputs": [],
   "source": [
    "writer.data_from_to(\"Test_Thy3.thy\", write_dir)"
   ]
  },
  {
   "cell_type": "code",
   "execution_count": 7,
   "id": "09fd01d5-f39a-447e-b35e-a34b4c5663a9",
   "metadata": {},
   "outputs": [
    {
     "name": "stdout",
     "output_type": "stream",
     "text": [
      "0 8\n"
     ]
    }
   ],
   "source": [
    "random = gateway.jvm.java.util.Random()   # create a java.util.Random instance\n",
    "number1 = random.nextInt(10)              # call the Random.nextInt method\n",
    "number2 = random.nextInt(10)\n",
    "print(number1, number2)"
   ]
  },
  {
   "cell_type": "code",
   "execution_count": 8,
   "id": "12098821-5c88-462a-b7af-81e0661ca2fb",
   "metadata": {},
   "outputs": [
    {
     "name": "stdout",
     "output_type": "stream",
     "text": [
      "Help on class Writer in package isabelle_rl:\n",
      "\n",
      "Writer {\n",
      "|  \n",
      "|  Methods defined here:\n",
      "|  \n",
      "|  apply(String, String) : Writer\n",
      "|  \n",
      "|  data_from_to(String, String) : void\n",
      "|  \n",
      "|  isa_rl_thy_file() : String\n",
      "|  \n",
      "|  isabelle() : Isabelle\n",
      "|  \n",
      "|  logic() : String\n",
      "|  \n",
      "|  retrieve_from_to() : MLFunction2\n",
      "|  \n",
      "|  toString() : String\n",
      "|  \n",
      "|  work_dir() : String\n",
      "|  \n",
      "|  ------------------------------------------------------------\n",
      "|  Fields defined here:\n",
      "|  \n",
      "|  ------------------------------------------------------------\n",
      "|  Internal classes defined here:\n",
      "|  \n",
      "}\n"
     ]
    }
   ],
   "source": [
    "gateway.help(writer)"
   ]
  },
  {
   "cell_type": "code",
   "execution_count": 11,
   "id": "a7cd2338-5f8c-4e6d-a1ec-84b89e0f319b",
   "metadata": {},
   "outputs": [],
   "source": [
    "gateway.shutdown()"
   ]
  },
  {
   "cell_type": "code",
   "execution_count": null,
   "id": "77b0f9eb-6db7-4c55-bb4a-51e84e9f94c4",
   "metadata": {},
   "outputs": [],
   "source": []
  }
 ],
 "metadata": {
  "kernelspec": {
   "display_name": "Python 3 (ipykernel)",
   "language": "python",
   "name": "python3"
  },
  "language_info": {
   "codemirror_mode": {
    "name": "ipython",
    "version": 3
   },
   "file_extension": ".py",
   "mimetype": "text/x-python",
   "name": "python",
   "nbconvert_exporter": "python",
   "pygments_lexer": "ipython3",
   "version": "3.11.4"
  }
 },
 "nbformat": 4,
 "nbformat_minor": 5
}
