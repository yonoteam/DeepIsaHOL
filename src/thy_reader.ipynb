{
 "cells": [
  {
   "cell_type": "markdown",
   "id": "333638f4-6408-4a1f-a626-ce5b308716f0",
   "metadata": {},
   "source": [
    "# Theory reader draft"
   ]
  },
  {
   "cell_type": "code",
   "execution_count": 65,
   "id": "0d021b26-90d3-4cf0-a51a-561cc930e2c6",
   "metadata": {},
   "outputs": [],
   "source": [
    "import re"
   ]
  },
  {
   "cell_type": "code",
   "execution_count": 66,
   "id": "16b4232a-1314-44fe-bcb4-b06223362e6a",
   "metadata": {},
   "outputs": [],
   "source": [
    "thm_inits = ['lemma', 'theorem', 'corollary', 'proposition', 'schematic_goal', 'function', 'termination']\n",
    "prf_inits = ['lemma', 'theorem', 'corollary', 'proposition', 'schematic_goal', 'function', 'termination',\n",
    "            'by', 'apply', 'using', 'unfolding', 'then have', 'then show', 'have', 'hence', 'show', 'thus', 'case']\n",
    "\n",
    "thm_init_rgx = re.compile(r'\\b(' + '|'.join(map(re.escape, thm_inits)) + r')\\b')\n",
    "prf_init_rgx = re.compile(r'\\b(' + '|'.join(map(re.escape, prf_inits)) + r')\\b')\n",
    "prf_end_rgx = re.compile(r'\\b(' + '|'.join(map(re.escape, ['by', 'qed', 'done'])) + r')\\b')\n",
    "\n",
    "test_path = 'Test.thy'\n",
    "\n",
    "def read_file(test_path):\n",
    "    with open(test_path, 'r') as file:\n",
    "        lines = file.readlines()\n",
    "    return \"\".join(lines)\n",
    "\n",
    "def proof_starting(s):\n",
    "    return prf_init_rgx.search(s)\n",
    "\n",
    "def proof_ending(line):\n",
    "    return prf_end_rgx.search(line)"
   ]
  },
  {
   "cell_type": "code",
   "execution_count": 67,
   "id": "0f344bf6-8ea2-43c1-823e-27cd0f021553",
   "metadata": {},
   "outputs": [],
   "source": [
    "def split_on(pattern, s):\n",
    "    matches = list(re.finditer(pattern, s)) # list of match obj\n",
    "    chunks = []\n",
    "    init_pos = 0\n",
    "    for match in matches:\n",
    "        match_pos = match.start()\n",
    "        chunk = s[init_pos:match_pos]\n",
    "        chunks.append(chunk)\n",
    "        init_pos = match_pos\n",
    "    if init_pos < len(s):\n",
    "        chunks.append(s[init_pos:])\n",
    "    return chunks\n",
    "\n",
    "# uses a stack buffer to find the indices of all parent comments\n",
    "# returns the list of comments and the resulting string without comments\n",
    "def remove_comments(s):\n",
    "    i = 0\n",
    "    stack = []\n",
    "    parent_idxs = []\n",
    "    while i < len(s):\n",
    "        if s[i:i+2] == \"(*\":\n",
    "            stack.append(i)\n",
    "            i += 2\n",
    "        elif s[i:i+2] == \"*)\":\n",
    "            if stack: \n",
    "                start = stack[-1]\n",
    "                stack.pop()\n",
    "                if not stack:\n",
    "                    parent_idxs.append((start, i+2))\n",
    "                i += 2\n",
    "            else:\n",
    "                raise Exception(\"Unbalanced comments\")\n",
    "                break\n",
    "        else:\n",
    "            i += 1\n",
    "    i = 0\n",
    "    chunks = []\n",
    "    comments = []\n",
    "    for idxs in parent_idxs:\n",
    "        if i < idxs[0]:\n",
    "            chunks.append(s[i:idxs[0]-1])\n",
    "        comments.append(s[idxs[0]:idxs[1]])\n",
    "        i = idxs[1] + 1\n",
    "    if i < len(s):\n",
    "        chunks.append(s[i:])\n",
    "    return \" \".join(chunks), comments"
   ]
  },
  {
   "cell_type": "code",
   "execution_count": null,
   "id": "32cd3096-dfbd-4a4f-aea4-4329c035e650",
   "metadata": {},
   "outputs": [],
   "source": [
    "# unfinished\n",
    "def insert_retrieval_cmnd(file_path):\n",
    "    thy_str, comments = remove_comments(read_file(file_path))\n",
    "    prf_matches = list(re.finditer(prf_init_rgx, s))\n",
    "    init_pos = 0\n",
    "    for match in prf_matches:\n",
    "        match_pos = match.start()\n",
    "        chunk = s[init_pos:match_pos]\n",
    "        if match.group() in thm_inits:\n",
    "            chunks.append()\n",
    "        else:\n",
    "            chunks.append(chunk)\n",
    "            init_pos = match_pos\n",
    "        if init_pos < len(s):\n",
    "            chunks.append(s[init_pos:])\n",
    "    return chunks"
   ]
  },
  {
   "cell_type": "code",
   "execution_count": 68,
   "id": "1e6956ec-6950-4dcb-b4c2-287684a1e9e4",
   "metadata": {},
   "outputs": [],
   "source": [
    "test_file = read_file(test_path)\n",
    "# type(test_file)"
   ]
  },
  {
   "cell_type": "code",
   "execution_count": 69,
   "id": "5155107f-e9bf-4486-8d87-c0ec6bfe8d34",
   "metadata": {},
   "outputs": [
    {
     "data": {
      "text/plain": [
       "['lemma eq_map_tree_Leaf[simp]: \"map_tree f t = Leaf \\\\<longleftrightarrow> t = Leaf\"\\n',\n",
       " 'by (rule tree.map_disc_iff)\\n\\n',\n",
       " 'lemma eq_Leaf_map_tree[simp]: \"Leaf = map_tree f t \\\\<longleftrightarrow> t = Leaf\"\\n',\n",
       " 'by (cases t) auto\\n\\n\\nsubsection \\\\<open>\\\\<^const>\\\\<open>size\\\\<close>\\\\<close>\\n\\n',\n",
       " 'lemma size1_size: \"size1 t = size t + 1\"\\n',\n",
       " 'by (induction t) simp_all\\n\\n',\n",
       " 'lemma size1_ge0[simp]: \"0 < size1 t\"\\n',\n",
       " 'by (simp add: size1_size)\\n\\n',\n",
       " 'lemma eq_size_0[simp]: \"size t = 0 \\\\<longleftrightarrow> t = Leaf\"\\n',\n",
       " 'by(cases t) auto\\n\\n',\n",
       " 'lemma eq_0_size[simp]: \"0 = size t \\\\<longleftrightarrow> t = Leaf\"\\n',\n",
       " 'by(cases t) auto\\n\\n',\n",
       " 'lemma neq_Leaf_iff: \"(t \\\\<noteq> \\\\<langle>\\\\<rangle>) = (\\\\<exists>l a r. t = \\\\<langle>l, a, r\\\\<rangle>)\"\\n',\n",
       " 'by (cases t) auto\\n\\n',\n",
       " 'lemma size_map_tree[simp]: \"size (map_tree f t) = size t\"\\n',\n",
       " 'by (induction t) auto\\n\\n',\n",
       " 'lemma size1_map_tree[simp]: \"size1 (map_tree f t) = size1 t\"\\n',\n",
       " 'by (simp add: size1_size)\\n\\n\\nsubsection \\\\<open>\\\\<^const>\\\\<open>set_tree\\\\<close>\\\\<close>\\n\\n',\n",
       " 'lemma eq_set_tree_empty[simp]: \"set_tree t = {} \\\\<longleftrightarrow> t = Leaf\"\\n',\n",
       " 'by (cases t) auto\\n\\n',\n",
       " 'lemma eq_empty_set_tree[simp]: \"{} = set_tree t \\\\<longleftrightarrow> t = Leaf\"\\n',\n",
       " 'by (cases t) auto\\n\\n',\n",
       " 'lemma finite_set_tree[simp]: \"finite(set_tree t)\"\\n',\n",
       " 'by(induction t) auto\\n\\n\\nsubsection \\\\<open>\\\\<^const>\\\\<open>subtrees\\\\<close>\\\\<close>\\n\\n',\n",
       " 'lemma neq_subtrees_empty[simp]: \"subtrees t \\\\<noteq> {}\"\\n',\n",
       " 'by (cases t)(auto)\\n\\n',\n",
       " 'lemma neq_empty_subtrees[simp]: \"{} \\\\<noteq> subtrees t\"\\n',\n",
       " 'by (cases t)(auto)\\n\\n',\n",
       " 'lemma size_subtrees: \"s \\\\<in> subtrees t \\\\<Longrightarrow> size s \\\\<le> size t\"\\n',\n",
       " 'by(induction t)(auto)\\n\\n',\n",
       " 'lemma set_treeE: \"a \\\\<in> set_tree t \\\\<Longrightarrow> \\\\<exists>l r. \\\\<langle>l, a, r\\\\<rangle> \\\\<in> subtrees t\"\\n',\n",
       " 'by (induction t)(auto)\\n\\n',\n",
       " 'lemma Node_notin_subtrees_if[simp]: \"a \\\\<notin> set_tree t \\\\<Longrightarrow> Node l a r \\\\<notin> subtrees t\"\\n',\n",
       " 'by (induction t) auto\\n\\n',\n",
       " 'lemma in_set_tree_if: \"\\\\<langle>l, a, r\\\\<rangle> \\\\<in> subtrees t \\\\<Longrightarrow> a \\\\<in> set_tree t\"\\n',\n",
       " 'by (metis Node_notin_subtrees_if)\\n\\n\\nsubsection \\\\<open>\\\\<^const>\\\\<open>height\\\\<close> and \\\\<^const>\\\\<open>min_height\\\\<close>\\\\<close>\\n\\n',\n",
       " 'lemma eq_height_0[simp]: \"height t = 0 \\\\<longleftrightarrow> t = Leaf\"\\n',\n",
       " 'by(cases t) auto\\n\\n',\n",
       " 'lemma eq_0_height[simp]: \"0 = height t \\\\<longleftrightarrow> t = Leaf\"\\n',\n",
       " 'by(cases t) auto\\n\\n',\n",
       " 'lemma height_map_tree[simp]: \"height (map_tree f t) = height t\"\\n',\n",
       " 'by (induction t) auto\\n\\n',\n",
       " 'lemma height_le_size_tree: \"height t \\\\<le> size (t::\\'a tree)\"\\n',\n",
       " 'by (induction t) auto\\n\\n',\n",
       " 'lemma size1_height: \"size1 t \\\\<le> 2 ^ height (t::\\'a tree)\"\\nproof(induction t)\\n  ',\n",
       " 'case (Node l a r)\\n  ',\n",
       " 'show ?',\n",
       " 'case\\n  proof (cases \"height l \\\\<le> height r\")\\n    ',\n",
       " 'case True\\n    ',\n",
       " 'have \"size1(Node l a r) = size1 l + size1 r\" ',\n",
       " 'by simp\\n    also ',\n",
       " 'have \"\\\\<dots> \\\\<le> 2 ^ height l + 2 ^ height r\" ',\n",
       " 'using Node.IH ',\n",
       " 'by arith\\n    also ',\n",
       " 'have \"\\\\<dots> \\\\<le> 2 ^ height r + 2 ^ height r\" ',\n",
       " 'using True ',\n",
       " 'by simp\\n    also ',\n",
       " 'have \"\\\\<dots> = 2 ^ height (Node l a r)\"\\n      ',\n",
       " 'using True ',\n",
       " 'by (auto simp: max_def mult_2)\\n    finally ',\n",
       " 'show ?thesis .\\n  next\\n    ',\n",
       " 'case False\\n    ',\n",
       " 'have \"size1(Node l a r) = size1 l + size1 r\" ',\n",
       " 'by simp\\n    also ',\n",
       " 'have \"\\\\<dots> \\\\<le> 2 ^ height l + 2 ^ height r\" ',\n",
       " 'using Node.IH ',\n",
       " 'by arith\\n    also ',\n",
       " 'have \"\\\\<dots> \\\\<le> 2 ^ height l + 2 ^ height l\" ',\n",
       " 'using False ',\n",
       " 'by simp\\n    finally ',\n",
       " 'show ?thesis ',\n",
       " 'using False ',\n",
       " 'by (auto simp: max_def mult_2)\\n  qed\\nqed simp\\n\\n',\n",
       " 'corollary size_height: \"size t \\\\<le> 2 ^ height (t::\\'a tree) - 1\"\\n',\n",
       " 'using size1_height[of t, unfolded size1_size] ',\n",
       " 'by(arith)\\n\\n',\n",
       " 'lemma height_subtrees: \"s \\\\<in> subtrees t \\\\<Longrightarrow> height s \\\\<le> height t\"\\n',\n",
       " 'by (induction t) auto\\n\\n\\n',\n",
       " 'lemma min_height_le_height: \"min_height t \\\\<le> height t\"\\n',\n",
       " 'by(induction t) auto\\n\\n',\n",
       " 'lemma min_height_map_tree[simp]: \"min_height (map_tree f t) = min_height t\"\\n',\n",
       " 'by (induction t) auto\\n\\n',\n",
       " 'lemma min_height_size1: \"2 ^ min_height t \\\\<le> size1 t\"\\nproof(induction t)\\n  ',\n",
       " 'case (Node l a r)\\n  ',\n",
       " 'have \"(2::nat) ^ min_height (Node l a r) \\\\<le> 2 ^ min_height l + 2 ^ min_height r\"\\n    ',\n",
       " 'by (simp add: min_def)\\n  also ',\n",
       " 'have \"\\\\<dots> \\\\<le> size1(Node l a r)\" ',\n",
       " 'using Node.IH ',\n",
       " 'by simp\\n  finally ']"
      ]
     },
     "execution_count": 69,
     "metadata": {},
     "output_type": "execute_result"
    }
   ],
   "source": [
    "test_str, comments = remove_comments(test_file)\n",
    "what = split_on(prf_init_rgx, test_str)\n",
    "what[1:90]"
   ]
  },
  {
   "cell_type": "code",
   "execution_count": 70,
   "id": "4ad6ac45-f5c8-4832-99fa-8e57b06fa575",
   "metadata": {},
   "outputs": [
    {
     "data": {
      "text/plain": [
       "['(* this is a comment (* this is a comment inside a comment with the string theory *) *)',\n",
       " '(* this is a comment with a new line,\\n (* and a three nested comment (* see! *) *) therefore it should be covered up to below\\n *)',\n",
       " '(* comment with the string theory *)',\n",
       " '(* another comment with the string theory *)',\n",
       " '(* another comment with theory *)']"
      ]
     },
     "execution_count": 70,
     "metadata": {},
     "output_type": "execute_result"
    }
   ],
   "source": [
    "comments"
   ]
  },
  {
   "cell_type": "code",
   "execution_count": 71,
   "id": "950d7ce0-120b-4747-aa74-cf914ebee9be",
   "metadata": {},
   "outputs": [
    {
     "data": {
      "text/plain": [
       "'\\\\<comment> \\\\<open> another comment with string theory \\\\<close>\\nsection \\\\<open>A section with string theory\\\\<close>\\n\\ntheory    \\\\<comment> \\\\<open>and this comment with theory \\\\<close>\\n Test\\nimports Main\\nbegin\\n\\ndatatype \\'a tree =\\n  Leaf (\"\\\\<langle>\\\\<rangle>\") |\\n  Node \"\\'a tree\" (\"value\": \\'a) \"\\'a tree\" (\"(1\\\\<langle>_,/ _,/ _\\\\<rangle>)\")\\ndatatype_compat tree\\n\\nprimrec left :: \"\\'a tree \\\\<Rightarrow> \\'a tree\" where\\n\"left (Node l v r) = l\" |\\n\"left Leaf = Leaf\"\\n\\nprimrec right :: \"\\'a tree \\\\<Rightarrow> \\'a tree\" where\\n\"right (Node l v r) = r\" |\\n\"right Leaf = Leaf\"\\n\\ntext\\\\<open>Counting the number of leaves rather than nodes:\\\\<close>\\n\\nfun size1 :: \"\\'a tree \\\\<Rightarrow> nat\" where\\n\"size1 \\\\<langle>\\\\<rangle> = 1\" |\\n\"size1 \\\\<langle>l, x, r\\\\<rangle> = size1 l + size1 r\"\\n\\nfun subtrees :: \"\\'a tree \\\\<Rightarrow> \\'a tree set\" where\\n\"subtrees \\\\<langle>\\\\<rangle> = {\\\\<langle>\\\\<rangle>}\" |\\n\"subtrees (\\\\<langle>l, a, r\\\\<rangle>) = {\\\\<langle>l, a, r\\\\<rangle>} \\\\<union> subtrees l \\\\<union> subtrees r\"\\n\\nfun mirror :: \"\\'a tree \\\\<Rightarrow> \\'a tree\" where\\n\"mirror \\\\<langle>\\\\<rangle> = Leaf\" |\\n\"mirror \\\\<langle>l,x,r\\\\<rangle> = \\\\<langle>mirror r, x, mirror l\\\\<rangle>\"\\n\\nclass height = fixes height :: \"\\'a \\\\<Rightarrow> nat\"\\n\\ninstantiation tree :: (type)height\\nbegin\\n\\nfun height_tree :: \"\\'a tree => nat\" where\\n\"height Leaf = 0\" |\\n\"height (Node l a r) = max (height l) (height r) + 1\"\\n\\ninstance ..\\n\\nend\\n\\nfun min_height :: \"\\'a tree \\\\<Rightarrow> nat\" where\\n\"min_height Leaf = 0\" |\\n\"min_height (Node l _ r) = min (min_height l) (min_height r) + 1\"\\n\\nfun complete :: \"\\'a tree \\\\<Rightarrow> bool\" where\\n\"complete Leaf = True\" |\\n\"complete (Node l x r) = (height l = height r \\\\<and> complete l \\\\<and> complete r)\"\\n\\ntext \\\\<open>Almost complete:\\\\<close>\\ndefinition acomplete :: \"\\'a tree \\\\<Rightarrow> bool\" where\\n\"acomplete t = (height t - min_height t \\\\<le> 1)\"\\n\\ntext \\\\<open>Weight balanced:\\\\<close>\\nfun wbalanced :: \"\\'a tree \\\\<Rightarrow> bool\" where\\n\"wbalanced Leaf = True\" |\\n\"wbalanced (Node l x r) = (abs(int(size l) - int(size r)) \\\\<le> 1 \\\\<and> wbalanced l \\\\<and> wbalanced r)\"\\n\\ntext \\\\<open>Internal path length:\\\\<close>\\nfun ipl :: \"\\'a tree \\\\<Rightarrow> nat\" where\\n\"ipl Leaf = 0 \" |\\n\"ipl (Node l _ r) = ipl l + size l + ipl r + size r\"\\n\\nfun preorder :: \"\\'a tree \\\\<Rightarrow> \\'a list\" where\\n\"preorder \\\\<langle>\\\\<rangle> = []\" |\\n\"preorder \\\\<langle>l, x, r\\\\<rangle> = x # preorder l @ preorder r\"\\n\\nfun inorder :: \"\\'a tree \\\\<Rightarrow> \\'a list\" where\\n\"inorder \\\\<langle>\\\\<rangle> = []\" |\\n\"inorder \\\\<langle>l, x, r\\\\<rangle> = inorder l @ [x] @ inorder r\"\\n\\ntext\\\\<open>A linear version avoiding append:\\\\<close>\\nfun inorder2 :: \"\\'a tree \\\\<Rightarrow> \\'a list \\\\<Rightarrow> \\'a list\" where\\n\"inorder2 \\\\<langle>\\\\<rangle> xs = xs\" |\\n\"inorder2 \\\\<langle>l, x, r\\\\<rangle> xs = inorder2 l (x # inorder2 r xs)\"\\n\\nfun postorder :: \"\\'a tree \\\\<Rightarrow> \\'a list\" where\\n\"postorder \\\\<langle>\\\\<rangle> = []\" |\\n\"postorder \\\\<langle>l, x, r\\\\<rangle> = postorder l @ postorder r @ [x]\"\\n\\ntext\\\\<open>Binary Search Tree:\\\\<close>\\nfun bst_wrt :: \"(\\'a \\\\<Rightarrow> \\'a \\\\<Rightarrow> bool) \\\\<Rightarrow> \\'a tree \\\\<Rightarrow> bool\" where\\n\"bst_wrt P \\\\<langle>\\\\<rangle> \\\\<longleftrightarrow> True\" |\\n\"bst_wrt P \\\\<langle>l, a, r\\\\<rangle> \\\\<longleftrightarrow>\\n (\\\\<forall>x\\\\<in>set_tree l. P x a) \\\\<and> (\\\\<forall>x\\\\<in>set_tree r. P a x) \\\\<and> bst_wrt P l \\\\<and> bst_wrt P r\"\\n\\nabbreviation bst :: \"(\\'a::linorder) tree \\\\<Rightarrow> bool\" where\\n\"bst \\\\<equiv> bst_wrt (<)\"\\n\\nfun (in linorder) heap :: \"\\'a tree \\\\<Rightarrow> bool\" where\\n\"heap Leaf = True\" |\\n\"heap (Node l m r) =\\n  ((\\\\<forall>x \\\\<in> set_tree l \\\\<union> set_tree r. m \\\\<le> x) \\\\<and> heap l \\\\<and> heap r)\"\\n\\n\\nsubsection \\\\<open>\\\\<^const>\\\\<open>map_tree\\\\<close>\\\\<close>\\n\\n'"
      ]
     },
     "execution_count": 71,
     "metadata": {},
     "output_type": "execute_result"
    }
   ],
   "source": [
    "what[0]"
   ]
  },
  {
   "cell_type": "code",
   "execution_count": 74,
   "id": "6e2a5b5a-cd15-4796-98d9-d7b0f0cdc32a",
   "metadata": {},
   "outputs": [],
   "source": [
    "# regex experiment\n",
    "def get_theory_name(s):\n",
    "    thy_init_rgx = re.compile(r'theory.*?begin', re.S)\n",
    "    thy_init_match = thy_init_rgx.search(s)\n",
    "    if thy_init_match:\n",
    "        thy_init = thy_init_match.group()\n",
    "        thy_name_rgx = re.compile(r'theory\\s*(?:\\(\\*.*?\\*\\)\\s*|―‹.*?›\\s*)*(\\S+)', re.S)\n",
    "        thy_name_match = thy_name_rgx.search(thy_init)\n",
    "        if thy_name_match:\n",
    "            thyy_name = thy_name_match.group(1)\n",
    "            return thyy_name\n",
    "    return None"
   ]
  },
  {
   "cell_type": "code",
   "execution_count": 75,
   "id": "03f2777b-cd29-407f-bbfa-88d9d900c532",
   "metadata": {},
   "outputs": [
    {
     "data": {
      "text/plain": [
       "'\\\\<close>'"
      ]
     },
     "execution_count": 75,
     "metadata": {},
     "output_type": "execute_result"
    }
   ],
   "source": [
    "test_file = read_file(test_path)\n",
    "test_str, comments = remove_comments(test_file)\n",
    "get_theory_name(test_str)"
   ]
  },
  {
   "cell_type": "code",
   "execution_count": null,
   "id": "e6fd915b-88b3-4ada-a420-d5b305a8be98",
   "metadata": {},
   "outputs": [],
   "source": []
  }
 ],
 "metadata": {
  "kernelspec": {
   "display_name": "Python 3 (ipykernel)",
   "language": "python",
   "name": "python3"
  },
  "language_info": {
   "codemirror_mode": {
    "name": "ipython",
    "version": 3
   },
   "file_extension": ".py",
   "mimetype": "text/x-python",
   "name": "python",
   "nbconvert_exporter": "python",
   "pygments_lexer": "ipython3",
   "version": "3.11.4"
  }
 },
 "nbformat": 4,
 "nbformat_minor": 5
}
