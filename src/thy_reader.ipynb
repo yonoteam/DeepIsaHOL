{
 "cells": [
  {
   "cell_type": "markdown",
   "id": "333638f4-6408-4a1f-a626-ce5b308716f0",
   "metadata": {},
   "source": [
    "# Theory reader draft"
   ]
  },
  {
   "cell_type": "code",
   "execution_count": 2,
   "id": "0d021b26-90d3-4cf0-a51a-561cc930e2c6",
   "metadata": {},
   "outputs": [],
   "source": [
    "import re"
   ]
  },
  {
   "cell_type": "code",
   "execution_count": 30,
   "id": "16b4232a-1314-44fe-bcb4-b06223362e6a",
   "metadata": {},
   "outputs": [],
   "source": [
    "thm_inits = ['lemma', 'theorem', 'corollary', 'proposition', 'schematic_goal', 'function', 'termination']\n",
    "prf_init = ['lemma', 'theorem', 'corollary', 'proposition', 'schematic_goal', 'function', 'termination',\n",
    "            'by', 'apply', 'using', 'unfolding', 'then have', 'then show', 'have', 'hence', 'show', 'thus', 'case']\n",
    "thm_init_rgx = re.compile(r'\\b(' + '|'.join(map(re.escape, thm_kwd_start)) + r')\\b')\n",
    "prf_init_rgx = re.compile(r'\\b(' + '|'.join(map(re.escape, prf_kwd_start)) + r')\\b')\n",
    "prf_end_rgx = re.compile(r'\\b(' + '|'.join(map(re.escape, ['by', 'qed', 'done'])) + r')\\b')\n",
    "\n",
    "file_path = 'Test.thy'\n",
    "\n",
    "def read_file(file_path):\n",
    "    with open(file_path, 'r') as file:\n",
    "        lines = file.readlines()\n",
    "    return lines\n",
    "\n",
    "def proof_starting(s):\n",
    "    return prf_init_rgx.search(s)\n",
    "\n",
    "def proof_ending(line):\n",
    "    return prf_end_rgx.search(line)\n",
    "\n",
    "def split_on(pattern, s):\n",
    "    matches = list(re.finditer(pattern, s)) # list of match obj\n",
    "    chunks = []\n",
    "    init_pos = 0\n",
    "    for match in matches:\n",
    "        match_pos = match.start()\n",
    "        chunk = s[init_pos:match_pos]\n",
    "        chunks.append(chunk)\n",
    "        init_pos = match_pos\n",
    "    if init_pos < len(s):\n",
    "        chunks.append(s[init_pos:])\n",
    "    return chunks"
   ]
  },
  {
   "cell_type": "code",
   "execution_count": null,
   "id": "32cd3096-dfbd-4a4f-aea4-4329c035e650",
   "metadata": {},
   "outputs": [],
   "source": [
    "def insert_retrieval_cmnd(file_path):\n",
    "    thy_str = \"\".join(read_file(file_path))\n",
    "    prf_matches = list(re.finditer(prf_init_rgx, s))\n",
    "    init_pos = 0\n",
    "    for match in prf_matches:\n",
    "        match_pos = match.start()\n",
    "        chunk = s[init_pos:match_pos]\n",
    "    if match.group() in thm_inits:\n",
    "        chunks.append()\n",
    "    else:\n",
    "        chunks.append(chunk)\n",
    "        init_pos = match_pos\n",
    "    if init_pos < len(s):\n",
    "        chunks.append(s[init_pos:])\n",
    "    return chunks"
   ]
  },
  {
   "cell_type": "code",
   "execution_count": 18,
   "id": "1e6956ec-6950-4dcb-b4c2-287684a1e9e4",
   "metadata": {},
   "outputs": [],
   "source": [
    "test_strs = read_file(file_path)\n",
    "# test_strs[183:203]\n",
    "# type(thm_rgx_start)\n",
    "test_str = \"\".join(test_strs)"
   ]
  },
  {
   "cell_type": "code",
   "execution_count": 28,
   "id": "5155107f-e9bf-4486-8d87-c0ec6bfe8d34",
   "metadata": {},
   "outputs": [
    {
     "data": {
      "text/plain": [
       "['lemma eq_map_tree_Leaf[simp]: \"map_tree f t = Leaf \\\\<longleftrightarrow> t = Leaf\"\\n',\n",
       " 'by (rule tree.map_disc_iff)\\n\\n',\n",
       " 'lemma eq_Leaf_map_tree[simp]: \"Leaf = map_tree f t \\\\<longleftrightarrow> t = Leaf\"\\n',\n",
       " 'by (cases t) auto\\n\\n\\nsubsection \\\\<open>\\\\<^const>\\\\<open>size\\\\<close>\\\\<close>\\n\\n',\n",
       " 'lemma size1_size: \"size1 t = size t + 1\"\\n',\n",
       " 'by (induction t) simp_all\\n\\n',\n",
       " 'lemma size1_ge0[simp]: \"0 < size1 t\"\\n',\n",
       " 'by (simp add: size1_size)\\n\\n',\n",
       " 'lemma eq_size_0[simp]: \"size t = 0 \\\\<longleftrightarrow> t = Leaf\"\\n',\n",
       " 'by(cases t) auto\\n\\n',\n",
       " 'lemma eq_0_size[simp]: \"0 = size t \\\\<longleftrightarrow> t = Leaf\"\\n',\n",
       " 'by(cases t) auto\\n\\n',\n",
       " 'lemma neq_Leaf_iff: \"(t \\\\<noteq> \\\\<langle>\\\\<rangle>) = (\\\\<exists>l a r. t = \\\\<langle>l, a, r\\\\<rangle>)\"\\n',\n",
       " 'by (cases t) auto\\n\\n',\n",
       " 'lemma size_map_tree[simp]: \"size (map_tree f t) = size t\"\\n',\n",
       " 'by (induction t) auto\\n\\n',\n",
       " 'lemma size1_map_tree[simp]: \"size1 (map_tree f t) = size1 t\"\\n',\n",
       " 'by (simp add: size1_size)\\n\\n\\nsubsection \\\\<open>\\\\<^const>\\\\<open>set_tree\\\\<close>\\\\<close>\\n\\n',\n",
       " 'lemma eq_set_tree_empty[simp]: \"set_tree t = {} \\\\<longleftrightarrow> t = Leaf\"\\n',\n",
       " 'by (cases t) auto\\n\\n',\n",
       " 'lemma eq_empty_set_tree[simp]: \"{} = set_tree t \\\\<longleftrightarrow> t = Leaf\"\\n',\n",
       " 'by (cases t) auto\\n\\n',\n",
       " 'lemma finite_set_tree[simp]: \"finite(set_tree t)\"\\n',\n",
       " 'by(induction t) auto\\n\\n\\nsubsection \\\\<open>\\\\<^const>\\\\<open>subtrees\\\\<close>\\\\<close>\\n\\n',\n",
       " 'lemma neq_subtrees_empty[simp]: \"subtrees t \\\\<noteq> {}\"\\n',\n",
       " 'by (cases t)(auto)\\n\\n',\n",
       " 'lemma neq_empty_subtrees[simp]: \"{} \\\\<noteq> subtrees t\"\\n',\n",
       " 'by (cases t)(auto)\\n\\n',\n",
       " 'lemma size_subtrees: \"s \\\\<in> subtrees t \\\\<Longrightarrow> size s \\\\<le> size t\"\\n',\n",
       " 'by(induction t)(auto)\\n\\n',\n",
       " 'lemma set_treeE: \"a \\\\<in> set_tree t \\\\<Longrightarrow> \\\\<exists>l r. \\\\<langle>l, a, r\\\\<rangle> \\\\<in> subtrees t\"\\n',\n",
       " 'by (induction t)(auto)\\n\\n',\n",
       " 'lemma Node_notin_subtrees_if[simp]: \"a \\\\<notin> set_tree t \\\\<Longrightarrow> Node l a r \\\\<notin> subtrees t\"\\n',\n",
       " 'by (induction t) auto\\n\\n',\n",
       " 'lemma in_set_tree_if: \"\\\\<langle>l, a, r\\\\<rangle> \\\\<in> subtrees t \\\\<Longrightarrow> a \\\\<in> set_tree t\"\\n',\n",
       " 'by (metis Node_notin_subtrees_if)\\n\\n\\nsubsection \\\\<open>\\\\<^const>\\\\<open>height\\\\<close> and \\\\<^const>\\\\<open>min_height\\\\<close>\\\\<close>\\n\\n',\n",
       " 'lemma eq_height_0[simp]: \"height t = 0 \\\\<longleftrightarrow> t = Leaf\"\\n',\n",
       " 'by(cases t) auto\\n\\n',\n",
       " 'lemma eq_0_height[simp]: \"0 = height t \\\\<longleftrightarrow> t = Leaf\"\\n',\n",
       " 'by(cases t) auto\\n\\n',\n",
       " 'lemma height_map_tree[simp]: \"height (map_tree f t) = height t\"\\n',\n",
       " 'by (induction t) auto\\n\\n',\n",
       " 'lemma height_le_size_tree: \"height t \\\\<le> size (t::\\'a tree)\"\\n',\n",
       " 'by (induction t) auto\\n\\n',\n",
       " 'lemma size1_height: \"size1 t \\\\<le> 2 ^ height (t::\\'a tree)\"\\nproof(induction t)\\n  ',\n",
       " 'case (Node l a r)\\n  ',\n",
       " 'show ?',\n",
       " 'case\\n  proof (cases \"height l \\\\<le> height r\")\\n    ',\n",
       " 'case True\\n    ',\n",
       " 'have \"size1(Node l a r) = size1 l + size1 r\" ',\n",
       " 'by simp\\n    also ',\n",
       " 'have \"\\\\<dots> \\\\<le> 2 ^ height l + 2 ^ height r\" ',\n",
       " 'using Node.IH ',\n",
       " 'by arith\\n    also ',\n",
       " 'have \"\\\\<dots> \\\\<le> 2 ^ height r + 2 ^ height r\" ',\n",
       " 'using True ',\n",
       " 'by simp\\n    also ',\n",
       " 'have \"\\\\<dots> = 2 ^ height (Node l a r)\"\\n      ',\n",
       " 'using True ',\n",
       " 'by (auto simp: max_def mult_2)\\n    finally ',\n",
       " 'show ?thesis .\\n  next\\n    ',\n",
       " 'case False\\n    ',\n",
       " 'have \"size1(Node l a r) = size1 l + size1 r\" ',\n",
       " 'by simp\\n    also ',\n",
       " 'have \"\\\\<dots> \\\\<le> 2 ^ height l + 2 ^ height r\" ',\n",
       " 'using Node.IH ',\n",
       " 'by arith\\n    also ',\n",
       " 'have \"\\\\<dots> \\\\<le> 2 ^ height l + 2 ^ height l\" ',\n",
       " 'using False ',\n",
       " 'by simp\\n    finally ',\n",
       " 'show ?thesis ',\n",
       " 'using False ',\n",
       " 'by (auto simp: max_def mult_2)\\n  qed\\nqed simp\\n\\n',\n",
       " 'corollary size_height: \"size t \\\\<le> 2 ^ height (t::\\'a tree) - 1\"\\n',\n",
       " 'using size1_height[of t, unfolded size1_size] ',\n",
       " 'by(arith)\\n\\n',\n",
       " 'lemma height_subtrees: \"s \\\\<in> subtrees t \\\\<Longrightarrow> height s \\\\<le> height t\"\\n',\n",
       " 'by (induction t) auto\\n\\n\\n',\n",
       " 'lemma min_height_le_height: \"min_height t \\\\<le> height t\"\\n',\n",
       " 'by(induction t) auto\\n\\n',\n",
       " 'lemma min_height_map_tree[simp]: \"min_height (map_tree f t) = min_height t\"\\n',\n",
       " 'by (induction t) auto\\n\\n',\n",
       " 'lemma min_height_size1: \"2 ^ min_height t \\\\<le> size1 t\"\\nproof(induction t)\\n  ',\n",
       " 'case (Node l a r)\\n  ',\n",
       " 'have \"(2::nat) ^ min_height (Node l a r) \\\\<le> 2 ^ min_height l + 2 ^ min_height r\"\\n    ',\n",
       " 'by (simp add: min_def)\\n  also ',\n",
       " 'have \"\\\\<dots> \\\\<le> size1(Node l a r)\" ',\n",
       " 'using Node.IH ',\n",
       " 'by simp\\n  finally ']"
      ]
     },
     "execution_count": 28,
     "metadata": {},
     "output_type": "execute_result"
    }
   ],
   "source": [
    "what = split_on(prf_rgx_start, test_str)\n",
    "what[1:90]"
   ]
  },
  {
   "cell_type": "code",
   "execution_count": 15,
   "id": "6e2a5b5a-cd15-4796-98d9-d7b0f0cdc32a",
   "metadata": {},
   "outputs": [],
   "source": []
  }
 ],
 "metadata": {
  "kernelspec": {
   "display_name": "Python 3 (ipykernel)",
   "language": "python",
   "name": "python3"
  },
  "language_info": {
   "codemirror_mode": {
    "name": "ipython",
    "version": 3
   },
   "file_extension": ".py",
   "mimetype": "text/x-python",
   "name": "python",
   "nbconvert_exporter": "python",
   "pygments_lexer": "ipython3",
   "version": "3.11.4"
  }
 },
 "nbformat": 4,
 "nbformat_minor": 5
}
